{
 "cells": [
  {
   "cell_type": "markdown",
   "metadata": {},
   "source": [
    "## Check the total duration of a folder of training data"
   ]
  },
  {
   "cell_type": "code",
   "execution_count": 7,
   "metadata": {},
   "outputs": [],
   "source": [
    "import os\n",
    "from mutagen.wave import WAVE"
   ]
  },
  {
   "cell_type": "code",
   "execution_count": 8,
   "metadata": {},
   "outputs": [],
   "source": [
    "def get_total_duration(folder_path):\n",
    "    \"\"\"Return the total duration of all audio files in the given folder in seconds.\"\"\"\n",
    "    total_duration = 0.0\n",
    "    \n",
    "    for root, _, files in os.walk(folder_path):\n",
    "        for file in files:\n",
    "            file_path = os.path.join(root, file)\n",
    "            audio = WAVE(file_path)\n",
    "            total_duration += audio.info.length\n",
    "    \n",
    "    return total_duration\n",
    "\n",
    "def format_duration(seconds):\n",
    "    \"\"\"Format duration from seconds to hh:mm:ss.\"\"\"\n",
    "    hours = int(seconds // 3600)\n",
    "    minutes = int((seconds % 3600) // 60)\n",
    "    seconds = int(seconds % 60)\n",
    "    return f\"{hours:02}:{minutes:02}:{seconds:02}\""
   ]
  },
  {
   "cell_type": "code",
   "execution_count": 9,
   "metadata": {},
   "outputs": [
    {
     "name": "stdout",
     "output_type": "stream",
     "text": [
      "Total duration of all audio files: 00:03:45\n"
     ]
    }
   ],
   "source": [
    "folder_path = 'recordings'#'/TTS/Matcha-TTS/data/multi-emoji/train'\n",
    "total_duration_seconds = get_total_duration(folder_path)\n",
    "total_duration_formatted = format_duration(total_duration_seconds)\n",
    "\n",
    "print(f\"Total duration of all audio files: {total_duration_formatted}\")"
   ]
  },
  {
   "cell_type": "code",
   "execution_count": null,
   "metadata": {},
   "outputs": [],
   "source": []
  }
 ],
 "metadata": {
  "kernelspec": {
   "display_name": "Python 3",
   "language": "python",
   "name": "python3"
  },
  "language_info": {
   "codemirror_mode": {
    "name": "ipython",
    "version": 3
   },
   "file_extension": ".py",
   "mimetype": "text/x-python",
   "name": "python",
   "nbconvert_exporter": "python",
   "pygments_lexer": "ipython3",
   "version": "3.11.9"
  }
 },
 "nbformat": 4,
 "nbformat_minor": 2
}
